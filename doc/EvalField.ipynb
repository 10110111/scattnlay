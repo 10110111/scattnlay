{
 "metadata": {
  "name": "",
  "signature": "sha256:1971e1de6bf95b40f25034cf84b62c258d3b1febaaf3ff70f8afded0416c8e56"
 },
 "nbformat": 3,
 "nbformat_minor": 0,
 "worksheets": [
  {
   "cells": [
    {
     "cell_type": "code",
     "collapsed": false,
     "input": [
      "%pylab inline\n",
      "from sympy import *\n",
      "import mpmath as mp\n",
      "from IPython.display import display, Math, Latex\n",
      "#init_printing(use_latex='mathjax')\n",
      "init_printing()\n",
      "def latex_print( str ):\n",
      "   \"Helper to print LaTeX strings, takes raw string (like r'string')\"    \n",
      "   display(Latex(str))\n",
      "   return"
     ],
     "language": "python",
     "metadata": {},
     "outputs": [
      {
       "output_type": "stream",
       "stream": "stdout",
       "text": [
        "Populating the interactive namespace from numpy and matplotlib\n"
       ]
      }
     ],
     "prompt_number": 2
    },
    {
     "cell_type": "markdown",
     "metadata": {},
     "source": [
      "Using sympy notation: for subscript it is a single underscore \\_ and for superscripts they use double underscore  \\_\\_ \n",
      "\n",
      "Define symbols for scattering coefficients eq. (A2)"
     ]
    },
    {
     "cell_type": "code",
     "collapsed": false,
     "input": [
      "var('z, zp1, n, tmp1, tmp2')\n",
      "D__l_n, D__1_n = symbols('D__(l)_n, D__(1)_n', cls=Function);\n",
      "#psi__dash_n = symbols(\"psi__'_n\", cls=Function);\n",
      "#zeta__dash_n = symbols(\"zeta__'_n\", cls=Function);\n",
      "#psi_n = symbols(\"psi_n\", cls=Function);\n",
      "#zeta_n = symbols(\"zeta_n\", cls=Function);\n",
      "psi__dash_n = symbols(\"psi__'_n\");\n",
      "zeta__dash_n = symbols(\"zeta__'_n\");\n",
      "psi_n = symbols(\"psi_n\");\n",
      "zeta_n = symbols(\"zeta_n\");\n",
      "a__l_n, b__l_n = symbols('a__(l)_n, b__(l)_n');\n",
      "a__1_n, b__1_n = symbols('a__(1)_n, b__(1)_n');\n",
      "c__l_n, d__l_n = symbols('c__(l)_n, d__(l)_n');\n",
      "a__lp1_n, b__lp1_n = symbols('a__(l+1)_n, b__(l+1)_n');\n",
      "c__lp1_n, d__lp1_n = symbols('c__(l+1)_n, d__(l+1)_n');\n",
      "a__lm1_n, b__lm1_n = symbols('a__(l-1)_n, b__(l-1)_n');\n",
      "c__lm1_n, d__lm1_n = symbols('c__(l-1)_n, d__(l-1)_n');\n",
      "x_l, m_l, m_lp1 = symbols('x_l, m_l, m_l+1')\n",
      "D__1_n, D__3_n, R_n = symbols('D__(1)_n, D__(3)_n, R_n', cls=Function)\n",
      "#D__1_n(z) = psi__dash_n(z)/psi_n(z)\n",
      "#z*mp.besselj(n,z)"
     ],
     "language": "python",
     "metadata": {},
     "outputs": [],
     "prompt_number": 3
    },
    {
     "cell_type": "markdown",
     "metadata": {},
     "source": [
      "eq. (A2)\n",
      "\n",
      "__WARNING!!__\n",
      "\n",
      "It seems to be two misprints in Yang paper\n",
      "- first sub-equation uses $m_1$ instead of $m_l$\n",
      "- last sub-equation uses $a_n^(l-1)$ instead of $a_n^(l+1)$"
     ]
    },
    {
     "cell_type": "code",
     "collapsed": false,
     "input": [
      "eqA2_1 = (    d__lp1_n * m_l * psi__dash_n (m_lp1*x_l) \n",
      "            - a__lp1_n * m_l * zeta__dash_n(m_lp1*x_l)\n",
      "            - d__l_n * m_lp1 * psi__dash_n (m_l*x_l) \n",
      "            + a__l_n * m_lp1 * zeta__dash_n(m_l*x_l)\n",
      "            )\n",
      "eqA2_2 = (    c__lp1_n * m_l * psi_n( m_lp1*x_l)\n",
      "            - b__lp1_n * m_l * zeta_n(m_lp1*x_l)\n",
      "            - c__l_n * m_lp1 * psi_n( m_l*x_l) \n",
      "            + b__l_n * m_lp1 * zeta_n(m_l*x_l)\n",
      "            )\n",
      "eqA2_3 = (    c__lp1_n * psi__dash_n (m_lp1*x_l) \n",
      "            - b__lp1_n * zeta__dash_n(m_lp1*x_l)\n",
      "            - c__l_n * psi__dash_n (m_l*x_l) \n",
      "            + b__l_n * zeta__dash_n(m_l*x_l)\n",
      "            )\n",
      "eqA2_4 = (    d__lp1_n * psi_n( m_lp1*x_l)\n",
      "            - a__lp1_n * zeta_n(m_lp1*x_l)\n",
      "            - d__l_n * psi_n( m_l*x_l) \n",
      "            + a__l_n * zeta_n(m_l*x_l)\n",
      "            )\n",
      "print(\"eqA2.1\")\n",
      "display(eqA2_1)\n",
      "print(\"\\neqA2.2\")\n",
      "display(eqA2_2)\n",
      "print(\"\\neqA2.3\")\n",
      "display(eqA2_3)\n",
      "print(\"\\neqA2.4\")\n",
      "display(eqA2_4)\n"
     ],
     "language": "python",
     "metadata": {},
     "outputs": [
      {
       "output_type": "stream",
       "stream": "stdout",
       "text": [
        "eqA2.1\n"
       ]
      },
      {
       "latex": [
        "$$a^{(l)}_{n} m_{l+1} \\zeta^{'}_{n}{\\left (m_{l} x_{l} \\right )} - a^{(l+1)}_{n} m_{l} \\zeta^{'}_{n}{\\left (m_{l+1} x_{l} \\right )} - d^{(l)}_{n} m_{l+1} \\psi^{'}_{n}{\\left (m_{l} x_{l} \\right )} + d^{(l+1)}_{n} m_{l} \\psi^{'}_{n}{\\left (m_{l+1} x_{l} \\right )}$$"
       ],
       "metadata": {},
       "output_type": "display_data",
       "png": "[encoded data removed]",
       "text": [
        "a_n__(l)\u22c5m_l+1\u22c5\u03b6_n__'(m_l\u22c5x_l) - a_n__(l+1)\u22c5m_l\u22c5\u03b6_n__'(m_l+1\u22c5x_l) - d_n__(l)\u22c5m\n",
        "_l+1\u22c5\u03c8_n__'(m_l\u22c5x_l) + d_n__(l+1)\u22c5m_l\u22c5\u03c8_n__'(m_l+1\u22c5x_l)"
       ]
      },
      {
       "output_type": "stream",
       "stream": "stdout",
       "text": [
        "\n",
        "eqA2.2\n"
       ]
      },
      {
       "latex": [
        "$$b^{(l)}_{n} m_{l+1} \\zeta_{n}{\\left (m_{l} x_{l} \\right )} - b^{(l+1)}_{n} m_{l} \\zeta_{n}{\\left (m_{l+1} x_{l} \\right )} - c^{(l)}_{n} m_{l+1} \\psi_{n}{\\left (m_{l} x_{l} \\right )} + c^{(l+1)}_{n} m_{l} \\psi_{n}{\\left (m_{l+1} x_{l} \\right )}$$"
       ],
       "metadata": {},
       "output_type": "display_data",
       "png": "[encoded data removed]",
       "text": [
        "b_n__(l)\u22c5m_l+1\u22c5\u03b6_n(m_l\u22c5x_l) - b_n__(l+1)\u22c5m_l\u22c5\u03b6_n(m_l+1\u22c5x_l) - c_n__(l)\u22c5m_l+1\u22c5\u03c8\n",
        "_n(m_l\u22c5x_l) + c_n__(l+1)\u22c5m_l\u22c5\u03c8_n(m_l+1\u22c5x_l)"
       ]
      },
      {
       "output_type": "stream",
       "stream": "stdout",
       "text": [
        "\n",
        "eqA2.3\n"
       ]
      },
      {
       "latex": [
        "$$b^{(l)}_{n} \\zeta^{'}_{n}{\\left (m_{l} x_{l} \\right )} - b^{(l+1)}_{n} \\zeta^{'}_{n}{\\left (m_{l+1} x_{l} \\right )} - c^{(l)}_{n} \\psi^{'}_{n}{\\left (m_{l} x_{l} \\right )} + c^{(l+1)}_{n} \\psi^{'}_{n}{\\left (m_{l+1} x_{l} \\right )}$$"
       ],
       "metadata": {},
       "output_type": "display_data",
       "png": "[encoded data removed]",
       "text": [
        "b_n__(l)\u22c5\u03b6_n__'(m_l\u22c5x_l) - b_n__(l+1)\u22c5\u03b6_n__'(m_l+1\u22c5x_l) - c_n__(l)\u22c5\u03c8_n__'(m_l\u22c5\n",
        "x_l) + c_n__(l+1)\u22c5\u03c8_n__'(m_l+1\u22c5x_l)"
       ]
      },
      {
       "output_type": "stream",
       "stream": "stdout",
       "text": [
        "\n",
        "eqA2.4\n"
       ]
      },
      {
       "latex": [
        "$$a^{(l)}_{n} \\zeta_{n}{\\left (m_{l} x_{l} \\right )} - a^{(l+1)}_{n} \\zeta_{n}{\\left (m_{l+1} x_{l} \\right )} - d^{(l)}_{n} \\psi_{n}{\\left (m_{l} x_{l} \\right )} + d^{(l+1)}_{n} \\psi_{n}{\\left (m_{l+1} x_{l} \\right )}$$"
       ],
       "metadata": {},
       "output_type": "display_data",
       "png": "[encoded data removed]",
       "text": [
        "a_n__(l)\u22c5\u03b6_n(m_l\u22c5x_l) - a_n__(l+1)\u22c5\u03b6_n(m_l+1\u22c5x_l) - d_n__(l)\u22c5\u03c8_n(m_l\u22c5x_l) + d_\n",
        "n__(l+1)\u22c5\u03c8_n(m_l+1\u22c5x_l)"
       ]
      }
     ],
     "prompt_number": 4
    },
    {
     "cell_type": "code",
     "collapsed": false,
     "input": [
      "print(\"eqA2.1\")\n",
      "display(eqA2_1)\n",
      "#1\n",
      "latex_print(r\"$\\hspace{42pt}$ Divide with $\\zeta_n(m_lx_l)$ and substitute with $D^{(3)}_n=\\zeta^{'}_n/\\zeta_n$\")\n",
      "denom = a__l_n*m_lp1\n",
      "z=m_l*x_l\n",
      "eqA2_1_norm = expand( eqA2_1/(denom * zeta_n(z)) )\n",
      "eqA2_1_norm = eqA2_1_norm.replace( zeta__dash_n(z)/zeta_n(z), D__3_n(z) )\n",
      "eqA2_1_norm = expand( eqA2_1_norm * denom )\n",
      "#display(eqA2_1_norm)\n",
      "#2\n",
      "latex_print(r\"$\\hspace{42pt}$ Divide with $\\psi_n(m_lx_l)$ and substitute with $D^{(1)}_n=\\psi^{'}_n/\\psi_n$\")\n",
      "z=m_l*x_l\n",
      "denom = -1 * d__l_n*m_lp1/zeta_n(z)\n",
      "eqA2_1_norm = expand(eqA2_1_norm/(denom*psi_n(z)) )\n",
      "eqA2_1_norm = eqA2_1_norm.replace(psi__dash_n(z)/psi_n(z), D__1_n(z))\n",
      "eqA2_1_norm = expand( eqA2_1_norm * denom )\n",
      "#display(eqA2_1_norm)\n",
      "#3\n",
      "latex_print(r\"$\\hspace{42pt}$ Divide with $\\zeta_n(m_{l+1}x_l)$ and substitute with $D^{(3)}_n=\\zeta^{'}_n/\\zeta_n$\")\n",
      "z=m_l*x_l\n",
      "denom = -1 *a__lp1_n*m_l/(zeta_n(z)*psi_n(z))\n",
      "zp1=m_lp1*x_l\n",
      "eqA2_1_norm = expand( eqA2_1_norm/(denom* zeta_n(zp1)) )\n",
      "eqA2_1_norm = expand(eqA2_1_norm.replace(zeta__dash_n(zp1)/zeta_n (zp1), D__3_n(zp1)))\n",
      "eqA2_1_norm = expand( eqA2_1_norm * denom )\n",
      "#display(eqA2_1_norm)\n",
      "#4\n",
      "latex_print(r\"$\\hspace{42pt}$ Divide with $\\psi_n(m_{l+1}x_l)$ and substitute with $D^{(1)}_n=\\psi^{'}_n/\\psi_n$\")\n",
      "z=m_l*x_l\n",
      "zp1=m_lp1*x_l\n",
      "denom =  d__lp1_n*m_l/(zeta_n(z)*zeta_n(zp1)*psi_n(z))\n",
      "eqA2_1_norm = expand(eqA2_1_norm/(denom*psi_n(zp1)) )\n",
      "eqA2_1_norm = eqA2_1_norm.replace(psi__dash_n(zp1)/psi_n(zp1), D__1_n(zp1))\n",
      "eqA2_1_norm = expand( eqA2_1_norm * denom )\n",
      "display(eqA2_1_norm)\n",
      "eqA2_1_result = eqA2_1_norm\n",
      "\n",
      "latex_print(r\"$\\hspace{42pt}$ Check it back\")\n",
      "z=m_l*x_l\n",
      "eqA2_1_norm = eqA2_1_norm.replace( D__1_n(z), psi__dash_n(z)/psi_n(z))\n",
      "eqA2_1_norm = eqA2_1_norm.replace( D__3_n(z), zeta__dash_n(z)/zeta_n(z) )\n",
      "eqA2_1_norm = eqA2_1_norm*zeta_n(z)*psi_n(z)\n",
      "z=m_lp1*x_l\n",
      "eqA2_1_norm = eqA2_1_norm.replace( D__1_n(z), psi__dash_n(z)/psi_n(z))\n",
      "eqA2_1_norm = eqA2_1_norm.replace( D__3_n(z), zeta__dash_n(z)/zeta_n(z) )\n",
      "eqA2_1_norm = eqA2_1_norm*zeta_n(z)*psi_n(z)\n",
      "display(expand(eqA2_1_norm-eqA2_1))\n",
      "\n",
      "        \n"
     ],
     "language": "python",
     "metadata": {},
     "outputs": [
      {
       "output_type": "stream",
       "stream": "stdout",
       "text": [
        "eqA2.1\n"
       ]
      },
      {
       "latex": [
        "$$a^{(l)}_{n} m_{l+1} \\zeta^{'}_{n}{\\left (m_{l} x_{l} \\right )} - a^{(l+1)}_{n} m_{l} \\zeta^{'}_{n}{\\left (m_{l+1} x_{l} \\right )} - d^{(l)}_{n} m_{l+1} \\psi^{'}_{n}{\\left (m_{l} x_{l} \\right )} + d^{(l+1)}_{n} m_{l} \\psi^{'}_{n}{\\left (m_{l+1} x_{l} \\right )}$$"
       ],
       "metadata": {},
       "output_type": "display_data",
       "png": "[encoded data removed]",
       "text": [
        "a_n__(l)\u22c5m_l+1\u22c5\u03b6_n__'(m_l\u22c5x_l) - a_n__(l+1)\u22c5m_l\u22c5\u03b6_n__'(m_l+1\u22c5x_l) - d_n__(l)\u22c5m\n",
        "_l+1\u22c5\u03c8_n__'(m_l\u22c5x_l) + d_n__(l+1)\u22c5m_l\u22c5\u03c8_n__'(m_l+1\u22c5x_l)"
       ]
      },
      {
       "latex": [
        "$\\hspace{42pt}$ Divide with $\\zeta_n(m_lx_l)$ and substitute with $D^{(3)}_n=\\zeta^{'}_n/\\zeta_n$"
       ],
       "metadata": {},
       "output_type": "display_data",
       "text": [
        "<IPython.core.display.Latex at 0x7fa727bc4590>"
       ]
      },
      {
       "latex": [
        "$\\hspace{42pt}$ Divide with $\\psi_n(m_lx_l)$ and substitute with $D^{(1)}_n=\\psi^{'}_n/\\psi_n$"
       ],
       "metadata": {},
       "output_type": "display_data",
       "text": [
        "<IPython.core.display.Latex at 0x7fa727b97f10>"
       ]
      },
      {
       "latex": [
        "$\\hspace{42pt}$ Divide with $\\zeta_n(m_{l+1}x_l)$ and substitute with $D^{(3)}_n=\\zeta^{'}_n/\\zeta_n$"
       ],
       "metadata": {},
       "output_type": "display_data",
       "text": [
        "<IPython.core.display.Latex at 0x7fa7440de710>"
       ]
      },
      {
       "latex": [
        "$\\hspace{42pt}$ Divide with $\\psi_n(m_{l+1}x_l)$ and substitute with $D^{(1)}_n=\\psi^{'}_n/\\psi_n$"
       ],
       "metadata": {},
       "output_type": "display_data",
       "text": [
        "<IPython.core.display.Latex at 0x7fa727bbb7d0>"
       ]
      },
      {
       "latex": [
        "$$\\frac{a^{(l)}_{n} m_{l+1} \\operatorname{D^{(3)}_{n}}{\\left (m_{l} x_{l} \\right )}}{\\psi_{n}{\\left (m_{l} x_{l} \\right )} \\psi_{n}{\\left (m_{l+1} x_{l} \\right )} \\zeta_{n}{\\left (m_{l+1} x_{l} \\right )}} - \\frac{a^{(l+1)}_{n} m_{l} \\operatorname{D^{(3)}_{n}}{\\left (m_{l+1} x_{l} \\right )}}{\\psi_{n}{\\left (m_{l} x_{l} \\right )} \\psi_{n}{\\left (m_{l+1} x_{l} \\right )} \\zeta_{n}{\\left (m_{l} x_{l} \\right )}} - \\frac{d^{(l)}_{n} m_{l+1} \\operatorname{D^{(1)}_{n}}{\\left (m_{l} x_{l} \\right )}}{\\psi_{n}{\\left (m_{l+1} x_{l} \\right )} \\zeta_{n}{\\left (m_{l} x_{l} \\right )} \\zeta_{n}{\\left (m_{l+1} x_{l} \\right )}} + \\frac{d^{(l+1)}_{n} m_{l} \\operatorname{D^{(1)}_{n}}{\\left (m_{l+1} x_{l} \\right )}}{\\psi_{n}{\\left (m_{l} x_{l} \\right )} \\zeta_{n}{\\left (m_{l} x_{l} \\right )} \\zeta_{n}{\\left (m_{l+1} x_{l} \\right )}}$$"
       ],
       "metadata": {},
       "output_type": "display_data",
       "png": "[encoded data removed]",
       "text": [
        "     a_n__(l)\u22c5m_l+1\u22c5D_n__(3)(m_l\u22c5x_l)           a_n__(l+1)\u22c5m_l\u22c5D_n__(3)(m_l+1\u22c5\n",
        "\u2500\u2500\u2500\u2500\u2500\u2500\u2500\u2500\u2500\u2500\u2500\u2500\u2500\u2500\u2500\u2500\u2500\u2500\u2500\u2500\u2500\u2500\u2500\u2500\u2500\u2500\u2500\u2500\u2500\u2500\u2500\u2500\u2500\u2500\u2500\u2500\u2500\u2500\u2500\u2500\u2500\u2500 - \u2500\u2500\u2500\u2500\u2500\u2500\u2500\u2500\u2500\u2500\u2500\u2500\u2500\u2500\u2500\u2500\u2500\u2500\u2500\u2500\u2500\u2500\u2500\u2500\u2500\u2500\u2500\u2500\u2500\u2500\u2500\u2500\u2500\n",
        "\u03c8_n(m_l\u22c5x_l)\u22c5\u03c8_n(m_l+1\u22c5x_l)\u22c5\u03b6_n(m_l+1\u22c5x_l)   \u03c8_n(m_l\u22c5x_l)\u22c5\u03c8_n(m_l+1\u22c5x_l)\u22c5\u03b6_n(m\n",
        "\n",
        "x_l)           d_n__(l)\u22c5m_l+1\u22c5D_n__(1)(m_l\u22c5x_l)           d_n__(l+1)\u22c5m_l\u22c5D_n__\n",
        "\u2500\u2500\u2500\u2500\u2500\u2500\u2500 - \u2500\u2500\u2500\u2500\u2500\u2500\u2500\u2500\u2500\u2500\u2500\u2500\u2500\u2500\u2500\u2500\u2500\u2500\u2500\u2500\u2500\u2500\u2500\u2500\u2500\u2500\u2500\u2500\u2500\u2500\u2500\u2500\u2500\u2500\u2500\u2500\u2500\u2500\u2500\u2500\u2500\u2500 + \u2500\u2500\u2500\u2500\u2500\u2500\u2500\u2500\u2500\u2500\u2500\u2500\u2500\u2500\u2500\u2500\u2500\u2500\u2500\u2500\u2500\u2500\u2500\n",
        "_l\u22c5x_l)   \u03c8_n(m_l+1\u22c5x_l)\u22c5\u03b6_n(m_l\u22c5x_l)\u22c5\u03b6_n(m_l+1\u22c5x_l)   \u03c8_n(m_l\u22c5x_l)\u22c5\u03b6_n(m_l\u22c5x_\n",
        "\n",
        "(1)(m_l+1\u22c5x_l)   \n",
        "\u2500\u2500\u2500\u2500\u2500\u2500\u2500\u2500\u2500\u2500\u2500\u2500\u2500\u2500\u2500\u2500\u2500\n",
        "l)\u22c5\u03b6_n(m_l+1\u22c5x_l)"
       ]
      },
      {
       "latex": [
        "$\\hspace{42pt}$ Check it back"
       ],
       "metadata": {},
       "output_type": "display_data",
       "text": [
        "<IPython.core.display.Latex at 0x7fa7440de710>"
       ]
      },
      {
       "latex": [
        "$$0$$"
       ],
       "metadata": {},
       "output_type": "display_data",
       "png": "[encoded data removed]",
       "text": [
        "0"
       ]
      }
     ],
     "prompt_number": 5
    },
    {
     "cell_type": "code",
     "collapsed": false,
     "input": [
      "print(\"System to solve:\")\n",
      "print(\"Eq1:\")\n",
      "display(eqA2_1_result)\n",
      "print(\"Eq2:\")\n",
      "display(eqA2_4)\n",
      "result_ad = solve([eqA2_1_result, eqA2_4],[a__l_n, d__l_n])\n",
      "result_a__l_n = result_ad.items()[0][1]\n",
      "display(Latex(r\"Result for  $a^{(l)}_n$:\"))\n",
      "display(simplify(result_a__l_n))\n",
      "result_d__l_n = result_ad.items()[1][1]\n",
      "display(Latex(r\"Result for  $d^{(l)}_n$:\"))\n",
      "display(simplify(result_d__l_n))\n",
      "print(\"Check the solution\")\n",
      "eq1=eqA2_1_result.subs(a__l_n, result_a__l_n).subs(d__l_n, result_d__l_n)\n",
      "display(simplify(eq1))\n",
      "eq1=eqA2_4.subs(a__l_n, result_a__l_n).subs(d__l_n, result_d__l_n)\n",
      "display(simplify(eq1))\n",
      "\n"
     ],
     "language": "python",
     "metadata": {},
     "outputs": [
      {
       "output_type": "stream",
       "stream": "stdout",
       "text": [
        "System to solve:\n",
        "Eq1:\n"
       ]
      },
      {
       "latex": [
        "$$\\frac{a^{(l)}_{n} m_{l+1} \\operatorname{D^{(3)}_{n}}{\\left (m_{l} x_{l} \\right )}}{\\psi_{n}{\\left (m_{l} x_{l} \\right )} \\psi_{n}{\\left (m_{l+1} x_{l} \\right )} \\zeta_{n}{\\left (m_{l+1} x_{l} \\right )}} - \\frac{a^{(l+1)}_{n} m_{l} \\operatorname{D^{(3)}_{n}}{\\left (m_{l+1} x_{l} \\right )}}{\\psi_{n}{\\left (m_{l} x_{l} \\right )} \\psi_{n}{\\left (m_{l+1} x_{l} \\right )} \\zeta_{n}{\\left (m_{l} x_{l} \\right )}} - \\frac{d^{(l)}_{n} m_{l+1} \\operatorname{D^{(1)}_{n}}{\\left (m_{l} x_{l} \\right )}}{\\psi_{n}{\\left (m_{l+1} x_{l} \\right )} \\zeta_{n}{\\left (m_{l} x_{l} \\right )} \\zeta_{n}{\\left (m_{l+1} x_{l} \\right )}} + \\frac{d^{(l+1)}_{n} m_{l} \\operatorname{D^{(1)}_{n}}{\\left (m_{l+1} x_{l} \\right )}}{\\psi_{n}{\\left (m_{l} x_{l} \\right )} \\zeta_{n}{\\left (m_{l} x_{l} \\right )} \\zeta_{n}{\\left (m_{l+1} x_{l} \\right )}}$$"
       ],
       "metadata": {},
       "output_type": "display_data",
       "png": "[encoded data removed]",
       "text": [
        "     a_n__(l)\u22c5m_l+1\u22c5D_n__(3)(m_l\u22c5x_l)           a_n__(l+1)\u22c5m_l\u22c5D_n__(3)(m_l+1\u22c5\n",
        "\u2500\u2500\u2500\u2500\u2500\u2500\u2500\u2500\u2500\u2500\u2500\u2500\u2500\u2500\u2500\u2500\u2500\u2500\u2500\u2500\u2500\u2500\u2500\u2500\u2500\u2500\u2500\u2500\u2500\u2500\u2500\u2500\u2500\u2500\u2500\u2500\u2500\u2500\u2500\u2500\u2500\u2500 - \u2500\u2500\u2500\u2500\u2500\u2500\u2500\u2500\u2500\u2500\u2500\u2500\u2500\u2500\u2500\u2500\u2500\u2500\u2500\u2500\u2500\u2500\u2500\u2500\u2500\u2500\u2500\u2500\u2500\u2500\u2500\u2500\u2500\n",
        "\u03c8_n(m_l\u22c5x_l)\u22c5\u03c8_n(m_l+1\u22c5x_l)\u22c5\u03b6_n(m_l+1\u22c5x_l)   \u03c8_n(m_l\u22c5x_l)\u22c5\u03c8_n(m_l+1\u22c5x_l)\u22c5\u03b6_n(m\n",
        "\n",
        "x_l)           d_n__(l)\u22c5m_l+1\u22c5D_n__(1)(m_l\u22c5x_l)           d_n__(l+1)\u22c5m_l\u22c5D_n__\n",
        "\u2500\u2500\u2500\u2500\u2500\u2500\u2500 - \u2500\u2500\u2500\u2500\u2500\u2500\u2500\u2500\u2500\u2500\u2500\u2500\u2500\u2500\u2500\u2500\u2500\u2500\u2500\u2500\u2500\u2500\u2500\u2500\u2500\u2500\u2500\u2500\u2500\u2500\u2500\u2500\u2500\u2500\u2500\u2500\u2500\u2500\u2500\u2500\u2500\u2500 + \u2500\u2500\u2500\u2500\u2500\u2500\u2500\u2500\u2500\u2500\u2500\u2500\u2500\u2500\u2500\u2500\u2500\u2500\u2500\u2500\u2500\u2500\u2500\n",
        "_l\u22c5x_l)   \u03c8_n(m_l+1\u22c5x_l)\u22c5\u03b6_n(m_l\u22c5x_l)\u22c5\u03b6_n(m_l+1\u22c5x_l)   \u03c8_n(m_l\u22c5x_l)\u22c5\u03b6_n(m_l\u22c5x_\n",
        "\n",
        "(1)(m_l+1\u22c5x_l)   \n",
        "\u2500\u2500\u2500\u2500\u2500\u2500\u2500\u2500\u2500\u2500\u2500\u2500\u2500\u2500\u2500\u2500\u2500\n",
        "l)\u22c5\u03b6_n(m_l+1\u22c5x_l)"
       ]
      },
      {
       "output_type": "stream",
       "stream": "stdout",
       "text": [
        "Eq2:\n"
       ]
      },
      {
       "latex": [
        "$$a^{(l)}_{n} \\zeta_{n}{\\left (m_{l} x_{l} \\right )} - a^{(l+1)}_{n} \\zeta_{n}{\\left (m_{l+1} x_{l} \\right )} - d^{(l)}_{n} \\psi_{n}{\\left (m_{l} x_{l} \\right )} + d^{(l+1)}_{n} \\psi_{n}{\\left (m_{l+1} x_{l} \\right )}$$"
       ],
       "metadata": {},
       "output_type": "display_data",
       "png": "[encoded data removed]",
       "text": [
        "a_n__(l)\u22c5\u03b6_n(m_l\u22c5x_l) - a_n__(l+1)\u22c5\u03b6_n(m_l+1\u22c5x_l) - d_n__(l)\u22c5\u03c8_n(m_l\u22c5x_l) + d_\n",
        "n__(l+1)\u22c5\u03c8_n(m_l+1\u22c5x_l)"
       ]
      },
      {
       "latex": [
        "Result for  $a^{(l)}_n$:"
       ],
       "metadata": {},
       "output_type": "display_data",
       "text": [
        "<IPython.core.display.Latex at 0x7fa727bfb150>"
       ]
      },
      {
       "latex": [
        "$$\\frac{1}{m_{l+1} \\left(\\operatorname{D^{(1)}_{n}}{\\left (m_{l} x_{l} \\right )} - \\operatorname{D^{(3)}_{n}}{\\left (m_{l} x_{l} \\right )}\\right) \\zeta_{n}{\\left (m_{l} x_{l} \\right )}} \\left(- m_{l} \\left(a^{(l+1)}_{n} \\operatorname{D^{(3)}_{n}}{\\left (m_{l+1} x_{l} \\right )} \\zeta_{n}{\\left (m_{l+1} x_{l} \\right )} - d^{(l+1)}_{n} \\operatorname{D^{(1)}_{n}}{\\left (m_{l+1} x_{l} \\right )} \\psi_{n}{\\left (m_{l+1} x_{l} \\right )}\\right) + m_{l+1} \\left(a^{(l+1)}_{n} \\zeta_{n}{\\left (m_{l+1} x_{l} \\right )} - d^{(l+1)}_{n} \\psi_{n}{\\left (m_{l+1} x_{l} \\right )}\\right) \\operatorname{D^{(1)}_{n}}{\\left (m_{l} x_{l} \\right )}\\right)$$"
       ],
       "metadata": {},
       "output_type": "display_data",
       "png": "[encoded data removed]",
       "text": [
        "-m_l\u22c5(a_n__(l+1)\u22c5D_n__(3)(m_l+1\u22c5x_l)\u22c5\u03b6_n(m_l+1\u22c5x_l) - d_n__(l+1)\u22c5D_n__(1)(m_l+\n",
        "\u2500\u2500\u2500\u2500\u2500\u2500\u2500\u2500\u2500\u2500\u2500\u2500\u2500\u2500\u2500\u2500\u2500\u2500\u2500\u2500\u2500\u2500\u2500\u2500\u2500\u2500\u2500\u2500\u2500\u2500\u2500\u2500\u2500\u2500\u2500\u2500\u2500\u2500\u2500\u2500\u2500\u2500\u2500\u2500\u2500\u2500\u2500\u2500\u2500\u2500\u2500\u2500\u2500\u2500\u2500\u2500\u2500\u2500\u2500\u2500\u2500\u2500\u2500\u2500\u2500\u2500\u2500\u2500\u2500\u2500\u2500\u2500\u2500\u2500\u2500\u2500\u2500\u2500\n",
        "                                                              m_l+1\u22c5(D_n__(1)(\n",
        "\n",
        "1\u22c5x_l)\u22c5\u03c8_n(m_l+1\u22c5x_l)) + m_l+1\u22c5(a_n__(l+1)\u22c5\u03b6_n(m_l+1\u22c5x_l) - d_n__(l+1)\u22c5\u03c8_n(m_l\n",
        "\u2500\u2500\u2500\u2500\u2500\u2500\u2500\u2500\u2500\u2500\u2500\u2500\u2500\u2500\u2500\u2500\u2500\u2500\u2500\u2500\u2500\u2500\u2500\u2500\u2500\u2500\u2500\u2500\u2500\u2500\u2500\u2500\u2500\u2500\u2500\u2500\u2500\u2500\u2500\u2500\u2500\u2500\u2500\u2500\u2500\u2500\u2500\u2500\u2500\u2500\u2500\u2500\u2500\u2500\u2500\u2500\u2500\u2500\u2500\u2500\u2500\u2500\u2500\u2500\u2500\u2500\u2500\u2500\u2500\u2500\u2500\u2500\u2500\u2500\u2500\u2500\u2500\u2500\n",
        "m_l\u22c5x_l) - D_n__(3)(m_l\u22c5x_l))\u22c5\u03b6_n(m_l\u22c5x_l)                                    \n",
        "\n",
        "+1\u22c5x_l))\u22c5D_n__(1)(m_l\u22c5x_l)\n",
        "\u2500\u2500\u2500\u2500\u2500\u2500\u2500\u2500\u2500\u2500\u2500\u2500\u2500\u2500\u2500\u2500\u2500\u2500\u2500\u2500\u2500\u2500\u2500\u2500\u2500\u2500\n",
        "                          "
       ]
      },
      {
       "latex": [
        "Result for  $d^{(l)}_n$:"
       ],
       "metadata": {},
       "output_type": "display_data",
       "text": [
        "<IPython.core.display.Latex at 0x7fa727ae8c90>"
       ]
      },
      {
       "latex": [
        "$$\\frac{1}{m_{l+1} \\left(\\operatorname{D^{(1)}_{n}}{\\left (m_{l} x_{l} \\right )} - \\operatorname{D^{(3)}_{n}}{\\left (m_{l} x_{l} \\right )}\\right) \\psi_{n}{\\left (m_{l} x_{l} \\right )}} \\left(- m_{l} \\left(a^{(l+1)}_{n} \\operatorname{D^{(3)}_{n}}{\\left (m_{l+1} x_{l} \\right )} \\zeta_{n}{\\left (m_{l+1} x_{l} \\right )} - d^{(l+1)}_{n} \\operatorname{D^{(1)}_{n}}{\\left (m_{l+1} x_{l} \\right )} \\psi_{n}{\\left (m_{l+1} x_{l} \\right )}\\right) + m_{l+1} \\left(a^{(l+1)}_{n} \\zeta_{n}{\\left (m_{l+1} x_{l} \\right )} - d^{(l+1)}_{n} \\psi_{n}{\\left (m_{l+1} x_{l} \\right )}\\right) \\operatorname{D^{(3)}_{n}}{\\left (m_{l} x_{l} \\right )}\\right)$$"
       ],
       "metadata": {},
       "output_type": "display_data",
       "png": "[encoded data removed]",
       "text": [
        "-m_l\u22c5(a_n__(l+1)\u22c5D_n__(3)(m_l+1\u22c5x_l)\u22c5\u03b6_n(m_l+1\u22c5x_l) - d_n__(l+1)\u22c5D_n__(1)(m_l+\n",
        "\u2500\u2500\u2500\u2500\u2500\u2500\u2500\u2500\u2500\u2500\u2500\u2500\u2500\u2500\u2500\u2500\u2500\u2500\u2500\u2500\u2500\u2500\u2500\u2500\u2500\u2500\u2500\u2500\u2500\u2500\u2500\u2500\u2500\u2500\u2500\u2500\u2500\u2500\u2500\u2500\u2500\u2500\u2500\u2500\u2500\u2500\u2500\u2500\u2500\u2500\u2500\u2500\u2500\u2500\u2500\u2500\u2500\u2500\u2500\u2500\u2500\u2500\u2500\u2500\u2500\u2500\u2500\u2500\u2500\u2500\u2500\u2500\u2500\u2500\u2500\u2500\u2500\u2500\n",
        "                                                              m_l+1\u22c5(D_n__(1)(\n",
        "\n",
        "1\u22c5x_l)\u22c5\u03c8_n(m_l+1\u22c5x_l)) + m_l+1\u22c5(a_n__(l+1)\u22c5\u03b6_n(m_l+1\u22c5x_l) - d_n__(l+1)\u22c5\u03c8_n(m_l\n",
        "\u2500\u2500\u2500\u2500\u2500\u2500\u2500\u2500\u2500\u2500\u2500\u2500\u2500\u2500\u2500\u2500\u2500\u2500\u2500\u2500\u2500\u2500\u2500\u2500\u2500\u2500\u2500\u2500\u2500\u2500\u2500\u2500\u2500\u2500\u2500\u2500\u2500\u2500\u2500\u2500\u2500\u2500\u2500\u2500\u2500\u2500\u2500\u2500\u2500\u2500\u2500\u2500\u2500\u2500\u2500\u2500\u2500\u2500\u2500\u2500\u2500\u2500\u2500\u2500\u2500\u2500\u2500\u2500\u2500\u2500\u2500\u2500\u2500\u2500\u2500\u2500\u2500\u2500\n",
        "m_l\u22c5x_l) - D_n__(3)(m_l\u22c5x_l))\u22c5\u03c8_n(m_l\u22c5x_l)                                    \n",
        "\n",
        "+1\u22c5x_l))\u22c5D_n__(3)(m_l\u22c5x_l)\n",
        "\u2500\u2500\u2500\u2500\u2500\u2500\u2500\u2500\u2500\u2500\u2500\u2500\u2500\u2500\u2500\u2500\u2500\u2500\u2500\u2500\u2500\u2500\u2500\u2500\u2500\u2500\n",
        "                          "
       ]
      },
      {
       "output_type": "stream",
       "stream": "stdout",
       "text": [
        "Check the solution\n"
       ]
      },
      {
       "latex": [
        "$$0$$"
       ],
       "metadata": {},
       "output_type": "display_data",
       "png": "[encoded data removed]",
       "text": [
        "0"
       ]
      },
      {
       "latex": [
        "$$0$$"
       ],
       "metadata": {},
       "output_type": "display_data",
       "png": "[encoded data removed]",
       "text": [
        "0"
       ]
      }
     ],
     "prompt_number": 6
    },
    {
     "cell_type": "code",
     "collapsed": false,
     "input": [
      "print(\"eqA2.3\")\n",
      "display(eqA2_3)\n",
      "#1\n",
      "latex_print(r\"$\\hspace{42pt}$ Divide with $\\zeta_n(m_lx_l)$ and substitute with $D^{(3)}_n=\\zeta^{'}_n/\\zeta_n$\")\n",
      "denom = b__l_n\n",
      "z=m_l*x_l\n",
      "eqA2_3_norm = expand( eqA2_3/(denom * zeta_n(z)) )\n",
      "eqA2_3_norm = eqA2_3_norm.replace( zeta__dash_n(z)/zeta_n(z), D__3_n(z) )\n",
      "eqA2_3_norm = expand( eqA2_3_norm * denom )\n",
      "#display(eqA2_3_norm)\n",
      "#2\n",
      "latex_print(r\"$\\hspace{42pt}$ Divide with $\\psi_n(m_lx_l)$ and substitute with $D^{(1)}_n=\\psi^{'}_n/\\psi_n$\")\n",
      "z=m_l*x_l\n",
      "denom = -1 * c__l_n/zeta_n(z)\n",
      "eqA2_3_norm = expand(eqA2_3_norm/(denom*psi_n(z)) )\n",
      "eqA2_3_norm = eqA2_3_norm.replace(psi__dash_n(z)/psi_n(z), D__1_n(z))\n",
      "eqA2_3_norm = expand( eqA2_3_norm * denom )\n",
      "#display(eqA2_3_norm)\n",
      "#3\n",
      "latex_print(r\"$\\hspace{42pt}$ Divide with $\\zeta_n(m_{l+1}x_l)$ and substitute with $D^{(3)}_n=\\zeta^{'}_n/\\zeta_n$\")\n",
      "z=m_l*x_l\n",
      "denom = -1 *b__lp1_n/(zeta_n(z)*psi_n(z))\n",
      "zp1=m_lp1*x_l\n",
      "eqA2_3_norm = expand( eqA2_3_norm/(denom* zeta_n(zp1)) )\n",
      "eqA2_3_norm = expand(eqA2_3_norm.replace(zeta__dash_n(zp1)/zeta_n (zp1), D__3_n(zp1)))\n",
      "eqA2_3_norm = expand( eqA2_3_norm * denom )\n",
      "#display(eqA2_3_norm)\n",
      "#4\n",
      "latex_print(r\"$\\hspace{42pt}$ Divide with $\\psi_n(m_{l+1}x_l)$ and substitute with $D^{(1)}_n=\\psi^{'}_n/\\psi_n$\")\n",
      "z=m_l*x_l\n",
      "zp1=m_lp1*x_l\n",
      "denom =  c__lp1_n/(zeta_n(z)*zeta_n(zp1)*psi_n(z))\n",
      "eqA2_3_norm = expand(eqA2_3_norm/(denom*psi_n(zp1)) )\n",
      "#display(eqA2_3_norm)\n",
      "eqA2_3_norm = eqA2_3_norm.replace(psi__dash_n(zp1)/psi_n(zp1), D__1_n(zp1))\n",
      "eqA2_3_norm = expand( eqA2_3_norm * denom )\n",
      "display(eqA2_3_norm)\n",
      "eqA2_3_result = eqA2_3_norm\n",
      "\n",
      "latex_print(r\"$\\hspace{42pt}$ Check it back\")\n",
      "z=m_l*x_l\n",
      "eqA2_3_norm = eqA2_3_norm.replace( D__1_n(z), psi__dash_n(z)/psi_n(z))\n",
      "eqA2_3_norm = eqA2_3_norm.replace( D__3_n(z), zeta__dash_n(z)/zeta_n(z) )\n",
      "eqA2_3_norm = eqA2_3_norm*zeta_n(z)*psi_n(z)\n",
      "z=m_lp1*x_l\n",
      "eqA2_3_norm = eqA2_3_norm.replace( D__1_n(z), psi__dash_n(z)/psi_n(z))\n",
      "eqA2_3_norm = eqA2_3_norm.replace( D__3_n(z), zeta__dash_n(z)/zeta_n(z) )\n",
      "eqA2_3_norm = eqA2_3_norm*zeta_n(z)*psi_n(z)\n",
      "display(expand(eqA2_3_norm-eqA2_3))"
     ],
     "language": "python",
     "metadata": {},
     "outputs": [
      {
       "output_type": "stream",
       "stream": "stdout",
       "text": [
        "eqA2.3\n"
       ]
      },
      {
       "latex": [
        "$$b^{(l)}_{n} \\zeta^{'}_{n}{\\left (m_{l} x_{l} \\right )} - b^{(l+1)}_{n} \\zeta^{'}_{n}{\\left (m_{l+1} x_{l} \\right )} - c^{(l)}_{n} \\psi^{'}_{n}{\\left (m_{l} x_{l} \\right )} + c^{(l+1)}_{n} \\psi^{'}_{n}{\\left (m_{l+1} x_{l} \\right )}$$"
       ],
       "metadata": {},
       "output_type": "display_data",
       "png": "[encoded data removed]",
       "text": [
        "b_n__(l)\u22c5\u03b6_n__'(m_l\u22c5x_l) - b_n__(l+1)\u22c5\u03b6_n__'(m_l+1\u22c5x_l) - c_n__(l)\u22c5\u03c8_n__'(m_l\u22c5\n",
        "x_l) + c_n__(l+1)\u22c5\u03c8_n__'(m_l+1\u22c5x_l)"
       ]
      },
      {
       "latex": [
        "$\\hspace{42pt}$ Divide with $\\zeta_n(m_lx_l)$ and substitute with $D^{(3)}_n=\\zeta^{'}_n/\\zeta_n$"
       ],
       "metadata": {},
       "output_type": "display_data",
       "text": [
        "<IPython.core.display.Latex at 0x7fa74c74a790>"
       ]
      },
      {
       "latex": [
        "$\\hspace{42pt}$ Divide with $\\psi_n(m_lx_l)$ and substitute with $D^{(1)}_n=\\psi^{'}_n/\\psi_n$"
       ],
       "metadata": {},
       "output_type": "display_data",
       "text": [
        "<IPython.core.display.Latex at 0x7fa727ac1a90>"
       ]
      },
      {
       "latex": [
        "$\\hspace{42pt}$ Divide with $\\zeta_n(m_{l+1}x_l)$ and substitute with $D^{(3)}_n=\\zeta^{'}_n/\\zeta_n$"
       ],
       "metadata": {},
       "output_type": "display_data",
       "text": [
        "<IPython.core.display.Latex at 0x7fa727adf310>"
       ]
      },
      {
       "latex": [
        "$\\hspace{42pt}$ Divide with $\\psi_n(m_{l+1}x_l)$ and substitute with $D^{(1)}_n=\\psi^{'}_n/\\psi_n$"
       ],
       "metadata": {},
       "output_type": "display_data",
       "text": [
        "<IPython.core.display.Latex at 0x7fa727c4f5d0>"
       ]
      },
      {
       "latex": [
        "$$\\frac{b^{(l)}_{n} \\operatorname{D^{(3)}_{n}}{\\left (m_{l} x_{l} \\right )}}{\\psi_{n}{\\left (m_{l} x_{l} \\right )} \\psi_{n}{\\left (m_{l+1} x_{l} \\right )} \\zeta_{n}{\\left (m_{l+1} x_{l} \\right )}} - \\frac{b^{(l+1)}_{n} \\operatorname{D^{(3)}_{n}}{\\left (m_{l+1} x_{l} \\right )}}{\\psi_{n}{\\left (m_{l} x_{l} \\right )} \\psi_{n}{\\left (m_{l+1} x_{l} \\right )} \\zeta_{n}{\\left (m_{l} x_{l} \\right )}} - \\frac{c^{(l)}_{n} \\operatorname{D^{(1)}_{n}}{\\left (m_{l} x_{l} \\right )}}{\\psi_{n}{\\left (m_{l+1} x_{l} \\right )} \\zeta_{n}{\\left (m_{l} x_{l} \\right )} \\zeta_{n}{\\left (m_{l+1} x_{l} \\right )}} + \\frac{c^{(l+1)}_{n} \\operatorname{D^{(1)}_{n}}{\\left (m_{l+1} x_{l} \\right )}}{\\psi_{n}{\\left (m_{l} x_{l} \\right )} \\zeta_{n}{\\left (m_{l} x_{l} \\right )} \\zeta_{n}{\\left (m_{l+1} x_{l} \\right )}}$$"
       ],
       "metadata": {},
       "output_type": "display_data",
       "png": "[encoded data removed]",
       "text": [
        "        b_n__(l)\u22c5D_n__(3)(m_l\u22c5x_l)                b_n__(l+1)\u22c5D_n__(3)(m_l+1\u22c5x_\n",
        "\u2500\u2500\u2500\u2500\u2500\u2500\u2500\u2500\u2500\u2500\u2500\u2500\u2500\u2500\u2500\u2500\u2500\u2500\u2500\u2500\u2500\u2500\u2500\u2500\u2500\u2500\u2500\u2500\u2500\u2500\u2500\u2500\u2500\u2500\u2500\u2500\u2500\u2500\u2500\u2500\u2500\u2500 - \u2500\u2500\u2500\u2500\u2500\u2500\u2500\u2500\u2500\u2500\u2500\u2500\u2500\u2500\u2500\u2500\u2500\u2500\u2500\u2500\u2500\u2500\u2500\u2500\u2500\u2500\u2500\u2500\u2500\u2500\u2500\u2500\u2500\n",
        "\u03c8_n(m_l\u22c5x_l)\u22c5\u03c8_n(m_l+1\u22c5x_l)\u22c5\u03b6_n(m_l+1\u22c5x_l)   \u03c8_n(m_l\u22c5x_l)\u22c5\u03c8_n(m_l+1\u22c5x_l)\u22c5\u03b6_n(m\n",
        "\n",
        "l)                c_n__(l)\u22c5D_n__(1)(m_l\u22c5x_l)                c_n__(l+1)\u22c5D_n__(1\n",
        "\u2500\u2500\u2500\u2500\u2500\u2500\u2500 - \u2500\u2500\u2500\u2500\u2500\u2500\u2500\u2500\u2500\u2500\u2500\u2500\u2500\u2500\u2500\u2500\u2500\u2500\u2500\u2500\u2500\u2500\u2500\u2500\u2500\u2500\u2500\u2500\u2500\u2500\u2500\u2500\u2500\u2500\u2500\u2500\u2500\u2500\u2500\u2500\u2500\u2500 + \u2500\u2500\u2500\u2500\u2500\u2500\u2500\u2500\u2500\u2500\u2500\u2500\u2500\u2500\u2500\u2500\u2500\u2500\u2500\u2500\u2500\u2500\u2500\n",
        "_l\u22c5x_l)   \u03c8_n(m_l+1\u22c5x_l)\u22c5\u03b6_n(m_l\u22c5x_l)\u22c5\u03b6_n(m_l+1\u22c5x_l)   \u03c8_n(m_l\u22c5x_l)\u22c5\u03b6_n(m_l\u22c5x_\n",
        "\n",
        ")(m_l+1\u22c5x_l)     \n",
        "\u2500\u2500\u2500\u2500\u2500\u2500\u2500\u2500\u2500\u2500\u2500\u2500\u2500\u2500\u2500\u2500\u2500\n",
        "l)\u22c5\u03b6_n(m_l+1\u22c5x_l)"
       ]
      },
      {
       "latex": [
        "$\\hspace{42pt}$ Check it back"
       ],
       "metadata": {},
       "output_type": "display_data",
       "text": [
        "<IPython.core.display.Latex at 0x7fa727b44990>"
       ]
      },
      {
       "latex": [
        "$$0$$"
       ],
       "metadata": {},
       "output_type": "display_data",
       "png": "[encoded data removed]",
       "text": [
        "0"
       ]
      }
     ],
     "prompt_number": 7
    },
    {
     "cell_type": "code",
     "collapsed": false,
     "input": [
      "print(\"System to solve:\")\n",
      "print(\"Eq1:\")\n",
      "display(eqA2_3_result)\n",
      "print(\"Eq2:\")\n",
      "display(eqA2_2)\n",
      "result_bc = solve([eqA2_3_result, eqA2_2],[b__l_n, c__l_n])\n",
      "result_b__l_n = result_bc.items()[0][1]\n",
      "display(Latex(r\"Result for  $b^{(l)}_n$:\"))\n",
      "display(simplify(result_b__l_n))\n",
      "result_c__l_n = result_bc.items()[1][1]\n",
      "display(Latex(r\"Result for  $c^{(l)}_n$:\"))\n",
      "display(simplify(result_c__l_n))\n",
      "print(\"Check the solution\")\n",
      "eq1=eqA2_3_result.subs(b__l_n, result_b__l_n).subs(c__l_n, result_c__l_n)\n",
      "display(simplify(eq1))\n",
      "eq1=eqA2_2.subs(b__l_n, result_b__l_n).subs(c__l_n, result_c__l_n)\n",
      "display(simplify(eq1))"
     ],
     "language": "python",
     "metadata": {},
     "outputs": [
      {
       "output_type": "stream",
       "stream": "stdout",
       "text": [
        "System to solve:\n",
        "Eq1:\n"
       ]
      },
      {
       "latex": [
        "$$\\frac{b^{(l)}_{n} \\operatorname{D^{(3)}_{n}}{\\left (m_{l} x_{l} \\right )}}{\\psi_{n}{\\left (m_{l} x_{l} \\right )} \\psi_{n}{\\left (m_{l+1} x_{l} \\right )} \\zeta_{n}{\\left (m_{l+1} x_{l} \\right )}} - \\frac{b^{(l+1)}_{n} \\operatorname{D^{(3)}_{n}}{\\left (m_{l+1} x_{l} \\right )}}{\\psi_{n}{\\left (m_{l} x_{l} \\right )} \\psi_{n}{\\left (m_{l+1} x_{l} \\right )} \\zeta_{n}{\\left (m_{l} x_{l} \\right )}} - \\frac{c^{(l)}_{n} \\operatorname{D^{(1)}_{n}}{\\left (m_{l} x_{l} \\right )}}{\\psi_{n}{\\left (m_{l+1} x_{l} \\right )} \\zeta_{n}{\\left (m_{l} x_{l} \\right )} \\zeta_{n}{\\left (m_{l+1} x_{l} \\right )}} + \\frac{c^{(l+1)}_{n} \\operatorname{D^{(1)}_{n}}{\\left (m_{l+1} x_{l} \\right )}}{\\psi_{n}{\\left (m_{l} x_{l} \\right )} \\zeta_{n}{\\left (m_{l} x_{l} \\right )} \\zeta_{n}{\\left (m_{l+1} x_{l} \\right )}}$$"
       ],
       "metadata": {},
       "output_type": "display_data",
       "png": "[encoded data removed]",
       "text": [
        "        b_n__(l)\u22c5D_n__(3)(m_l\u22c5x_l)                b_n__(l+1)\u22c5D_n__(3)(m_l+1\u22c5x_\n",
        "\u2500\u2500\u2500\u2500\u2500\u2500\u2500\u2500\u2500\u2500\u2500\u2500\u2500\u2500\u2500\u2500\u2500\u2500\u2500\u2500\u2500\u2500\u2500\u2500\u2500\u2500\u2500\u2500\u2500\u2500\u2500\u2500\u2500\u2500\u2500\u2500\u2500\u2500\u2500\u2500\u2500\u2500 - \u2500\u2500\u2500\u2500\u2500\u2500\u2500\u2500\u2500\u2500\u2500\u2500\u2500\u2500\u2500\u2500\u2500\u2500\u2500\u2500\u2500\u2500\u2500\u2500\u2500\u2500\u2500\u2500\u2500\u2500\u2500\u2500\u2500\n",
        "\u03c8_n(m_l\u22c5x_l)\u22c5\u03c8_n(m_l+1\u22c5x_l)\u22c5\u03b6_n(m_l+1\u22c5x_l)   \u03c8_n(m_l\u22c5x_l)\u22c5\u03c8_n(m_l+1\u22c5x_l)\u22c5\u03b6_n(m\n",
        "\n",
        "l)                c_n__(l)\u22c5D_n__(1)(m_l\u22c5x_l)                c_n__(l+1)\u22c5D_n__(1\n",
        "\u2500\u2500\u2500\u2500\u2500\u2500\u2500 - \u2500\u2500\u2500\u2500\u2500\u2500\u2500\u2500\u2500\u2500\u2500\u2500\u2500\u2500\u2500\u2500\u2500\u2500\u2500\u2500\u2500\u2500\u2500\u2500\u2500\u2500\u2500\u2500\u2500\u2500\u2500\u2500\u2500\u2500\u2500\u2500\u2500\u2500\u2500\u2500\u2500\u2500 + \u2500\u2500\u2500\u2500\u2500\u2500\u2500\u2500\u2500\u2500\u2500\u2500\u2500\u2500\u2500\u2500\u2500\u2500\u2500\u2500\u2500\u2500\u2500\n",
        "_l\u22c5x_l)   \u03c8_n(m_l+1\u22c5x_l)\u22c5\u03b6_n(m_l\u22c5x_l)\u22c5\u03b6_n(m_l+1\u22c5x_l)   \u03c8_n(m_l\u22c5x_l)\u22c5\u03b6_n(m_l\u22c5x_\n",
        "\n",
        ")(m_l+1\u22c5x_l)     \n",
        "\u2500\u2500\u2500\u2500\u2500\u2500\u2500\u2500\u2500\u2500\u2500\u2500\u2500\u2500\u2500\u2500\u2500\n",
        "l)\u22c5\u03b6_n(m_l+1\u22c5x_l)"
       ]
      },
      {
       "output_type": "stream",
       "stream": "stdout",
       "text": [
        "Eq2:\n"
       ]
      },
      {
       "latex": [
        "$$b^{(l)}_{n} m_{l+1} \\zeta_{n}{\\left (m_{l} x_{l} \\right )} - b^{(l+1)}_{n} m_{l} \\zeta_{n}{\\left (m_{l+1} x_{l} \\right )} - c^{(l)}_{n} m_{l+1} \\psi_{n}{\\left (m_{l} x_{l} \\right )} + c^{(l+1)}_{n} m_{l} \\psi_{n}{\\left (m_{l+1} x_{l} \\right )}$$"
       ],
       "metadata": {},
       "output_type": "display_data",
       "png": "[encoded data removed]",
       "text": [
        "b_n__(l)\u22c5m_l+1\u22c5\u03b6_n(m_l\u22c5x_l) - b_n__(l+1)\u22c5m_l\u22c5\u03b6_n(m_l+1\u22c5x_l) - c_n__(l)\u22c5m_l+1\u22c5\u03c8\n",
        "_n(m_l\u22c5x_l) + c_n__(l+1)\u22c5m_l\u22c5\u03c8_n(m_l+1\u22c5x_l)"
       ]
      },
      {
       "latex": [
        "Result for  $b^{(l)}_n$:"
       ],
       "metadata": {},
       "output_type": "display_data",
       "text": [
        "<IPython.core.display.Latex at 0x7fa727b44950>"
       ]
      },
      {
       "latex": [
        "$$\\frac{1}{m_{l+1} \\left(\\operatorname{D^{(1)}_{n}}{\\left (m_{l} x_{l} \\right )} - \\operatorname{D^{(3)}_{n}}{\\left (m_{l} x_{l} \\right )}\\right) \\zeta_{n}{\\left (m_{l} x_{l} \\right )}} \\left(m_{l} \\left(b^{(l+1)}_{n} \\zeta_{n}{\\left (m_{l+1} x_{l} \\right )} - c^{(l+1)}_{n} \\psi_{n}{\\left (m_{l+1} x_{l} \\right )}\\right) \\operatorname{D^{(1)}_{n}}{\\left (m_{l} x_{l} \\right )} - m_{l+1} \\left(b^{(l+1)}_{n} \\operatorname{D^{(3)}_{n}}{\\left (m_{l+1} x_{l} \\right )} \\zeta_{n}{\\left (m_{l+1} x_{l} \\right )} - c^{(l+1)}_{n} \\operatorname{D^{(1)}_{n}}{\\left (m_{l+1} x_{l} \\right )} \\psi_{n}{\\left (m_{l+1} x_{l} \\right )}\\right)\\right)$$"
       ],
       "metadata": {},
       "output_type": "display_data",
       "png": "[encoded data removed]",
       "text": [
        "m_l\u22c5(b_n__(l+1)\u22c5\u03b6_n(m_l+1\u22c5x_l) - c_n__(l+1)\u22c5\u03c8_n(m_l+1\u22c5x_l))\u22c5D_n__(1)(m_l\u22c5x_l) \n",
        "\u2500\u2500\u2500\u2500\u2500\u2500\u2500\u2500\u2500\u2500\u2500\u2500\u2500\u2500\u2500\u2500\u2500\u2500\u2500\u2500\u2500\u2500\u2500\u2500\u2500\u2500\u2500\u2500\u2500\u2500\u2500\u2500\u2500\u2500\u2500\u2500\u2500\u2500\u2500\u2500\u2500\u2500\u2500\u2500\u2500\u2500\u2500\u2500\u2500\u2500\u2500\u2500\u2500\u2500\u2500\u2500\u2500\u2500\u2500\u2500\u2500\u2500\u2500\u2500\u2500\u2500\u2500\u2500\u2500\u2500\u2500\u2500\u2500\u2500\u2500\u2500\u2500\u2500\n",
        "                                                              m_l+1\u22c5(D_n__(1)(\n",
        "\n",
        "- m_l+1\u22c5(b_n__(l+1)\u22c5D_n__(3)(m_l+1\u22c5x_l)\u22c5\u03b6_n(m_l+1\u22c5x_l) - c_n__(l+1)\u22c5D_n__(1)(m\n",
        "\u2500\u2500\u2500\u2500\u2500\u2500\u2500\u2500\u2500\u2500\u2500\u2500\u2500\u2500\u2500\u2500\u2500\u2500\u2500\u2500\u2500\u2500\u2500\u2500\u2500\u2500\u2500\u2500\u2500\u2500\u2500\u2500\u2500\u2500\u2500\u2500\u2500\u2500\u2500\u2500\u2500\u2500\u2500\u2500\u2500\u2500\u2500\u2500\u2500\u2500\u2500\u2500\u2500\u2500\u2500\u2500\u2500\u2500\u2500\u2500\u2500\u2500\u2500\u2500\u2500\u2500\u2500\u2500\u2500\u2500\u2500\u2500\u2500\u2500\u2500\u2500\u2500\u2500\n",
        "m_l\u22c5x_l) - D_n__(3)(m_l\u22c5x_l))\u22c5\u03b6_n(m_l\u22c5x_l)                                    \n",
        "\n",
        "_l+1\u22c5x_l)\u22c5\u03c8_n(m_l+1\u22c5x_l))\n",
        "\u2500\u2500\u2500\u2500\u2500\u2500\u2500\u2500\u2500\u2500\u2500\u2500\u2500\u2500\u2500\u2500\u2500\u2500\u2500\u2500\u2500\u2500\u2500\u2500\u2500\n",
        "                         "
       ]
      },
      {
       "latex": [
        "Result for  $c^{(l)}_n$:"
       ],
       "metadata": {},
       "output_type": "display_data",
       "text": [
        "<IPython.core.display.Latex at 0x7fa74c74a790>"
       ]
      },
      {
       "latex": [
        "$$\\frac{1}{m_{l+1} \\left(\\operatorname{D^{(1)}_{n}}{\\left (m_{l} x_{l} \\right )} - \\operatorname{D^{(3)}_{n}}{\\left (m_{l} x_{l} \\right )}\\right) \\psi_{n}{\\left (m_{l} x_{l} \\right )}} \\left(m_{l} \\left(b^{(l+1)}_{n} \\zeta_{n}{\\left (m_{l+1} x_{l} \\right )} - c^{(l+1)}_{n} \\psi_{n}{\\left (m_{l+1} x_{l} \\right )}\\right) \\operatorname{D^{(3)}_{n}}{\\left (m_{l} x_{l} \\right )} - m_{l+1} \\left(b^{(l+1)}_{n} \\operatorname{D^{(3)}_{n}}{\\left (m_{l+1} x_{l} \\right )} \\zeta_{n}{\\left (m_{l+1} x_{l} \\right )} - c^{(l+1)}_{n} \\operatorname{D^{(1)}_{n}}{\\left (m_{l+1} x_{l} \\right )} \\psi_{n}{\\left (m_{l+1} x_{l} \\right )}\\right)\\right)$$"
       ],
       "metadata": {},
       "output_type": "display_data",
       "png": "[encoded data removed]",
       "text": [
        "m_l\u22c5(b_n__(l+1)\u22c5\u03b6_n(m_l+1\u22c5x_l) - c_n__(l+1)\u22c5\u03c8_n(m_l+1\u22c5x_l))\u22c5D_n__(3)(m_l\u22c5x_l) \n",
        "\u2500\u2500\u2500\u2500\u2500\u2500\u2500\u2500\u2500\u2500\u2500\u2500\u2500\u2500\u2500\u2500\u2500\u2500\u2500\u2500\u2500\u2500\u2500\u2500\u2500\u2500\u2500\u2500\u2500\u2500\u2500\u2500\u2500\u2500\u2500\u2500\u2500\u2500\u2500\u2500\u2500\u2500\u2500\u2500\u2500\u2500\u2500\u2500\u2500\u2500\u2500\u2500\u2500\u2500\u2500\u2500\u2500\u2500\u2500\u2500\u2500\u2500\u2500\u2500\u2500\u2500\u2500\u2500\u2500\u2500\u2500\u2500\u2500\u2500\u2500\u2500\u2500\u2500\n",
        "                                                              m_l+1\u22c5(D_n__(1)(\n",
        "\n",
        "- m_l+1\u22c5(b_n__(l+1)\u22c5D_n__(3)(m_l+1\u22c5x_l)\u22c5\u03b6_n(m_l+1\u22c5x_l) - c_n__(l+1)\u22c5D_n__(1)(m\n",
        "\u2500\u2500\u2500\u2500\u2500\u2500\u2500\u2500\u2500\u2500\u2500\u2500\u2500\u2500\u2500\u2500\u2500\u2500\u2500\u2500\u2500\u2500\u2500\u2500\u2500\u2500\u2500\u2500\u2500\u2500\u2500\u2500\u2500\u2500\u2500\u2500\u2500\u2500\u2500\u2500\u2500\u2500\u2500\u2500\u2500\u2500\u2500\u2500\u2500\u2500\u2500\u2500\u2500\u2500\u2500\u2500\u2500\u2500\u2500\u2500\u2500\u2500\u2500\u2500\u2500\u2500\u2500\u2500\u2500\u2500\u2500\u2500\u2500\u2500\u2500\u2500\u2500\u2500\n",
        "m_l\u22c5x_l) - D_n__(3)(m_l\u22c5x_l))\u22c5\u03c8_n(m_l\u22c5x_l)                                    \n",
        "\n",
        "_l+1\u22c5x_l)\u22c5\u03c8_n(m_l+1\u22c5x_l))\n",
        "\u2500\u2500\u2500\u2500\u2500\u2500\u2500\u2500\u2500\u2500\u2500\u2500\u2500\u2500\u2500\u2500\u2500\u2500\u2500\u2500\u2500\u2500\u2500\u2500\u2500\n",
        "                         "
       ]
      },
      {
       "output_type": "stream",
       "stream": "stdout",
       "text": [
        "Check the solution\n"
       ]
      },
      {
       "latex": [
        "$$0$$"
       ],
       "metadata": {},
       "output_type": "display_data",
       "png": "[encoded data removed]",
       "text": [
        "0"
       ]
      },
      {
       "latex": [
        "$$0$$"
       ],
       "metadata": {},
       "output_type": "display_data",
       "png": "[encoded data removed]",
       "text": [
        "0"
       ]
      }
     ],
     "prompt_number": 8
    },
    {
     "cell_type": "markdown",
     "metadata": {},
     "source": [
      "Finally\n",
      "------"
     ]
    },
    {
     "cell_type": "code",
     "collapsed": false,
     "input": [
      "print (\"l = [1..L] or in C++ l = [0..L-1]\")\n",
      "display(Latex(r\"Result for  $a^{(l)}_n$:\"))\n",
      "display(simplify(result_a__l_n))\n",
      "display(Latex(r\"Result for  $d^{(l)}_n$:\"))\n",
      "display(simplify(result_d__l_n))\n",
      "display(Latex(r\"Result for  $b^{(l)}_n$:\"))\n",
      "display(simplify(result_b__l_n))\n",
      "display(Latex(r\"Result for  $c^{(l)}_n$:\"))\n",
      "display(simplify(result_c__l_n))"
     ],
     "language": "python",
     "metadata": {},
     "outputs": [
      {
       "output_type": "stream",
       "stream": "stdout",
       "text": [
        "l = [1..L] or in C++ l = [0..L-1]\n"
       ]
      },
      {
       "latex": [
        "Result for  $a^{(l)}_n$:"
       ],
       "metadata": {},
       "output_type": "display_data",
       "text": [
        "<IPython.core.display.Latex at 0x7fa727c687d0>"
       ]
      },
      {
       "latex": [
        "$$\\frac{1}{m_{l+1} \\left(\\operatorname{D^{(1)}_{n}}{\\left (m_{l} x_{l} \\right )} - \\operatorname{D^{(3)}_{n}}{\\left (m_{l} x_{l} \\right )}\\right) \\zeta_{n}{\\left (m_{l} x_{l} \\right )}} \\left(- m_{l} \\left(a^{(l+1)}_{n} \\operatorname{D^{(3)}_{n}}{\\left (m_{l+1} x_{l} \\right )} \\zeta_{n}{\\left (m_{l+1} x_{l} \\right )} - d^{(l+1)}_{n} \\operatorname{D^{(1)}_{n}}{\\left (m_{l+1} x_{l} \\right )} \\psi_{n}{\\left (m_{l+1} x_{l} \\right )}\\right) + m_{l+1} \\left(a^{(l+1)}_{n} \\zeta_{n}{\\left (m_{l+1} x_{l} \\right )} - d^{(l+1)}_{n} \\psi_{n}{\\left (m_{l+1} x_{l} \\right )}\\right) \\operatorname{D^{(1)}_{n}}{\\left (m_{l} x_{l} \\right )}\\right)$$"
       ],
       "metadata": {},
       "output_type": "display_data",
       "png": "[encoded data removed]",
       "text": [
        "-m_l\u22c5(a_n__(l+1)\u22c5D_n__(3)(m_l+1\u22c5x_l)\u22c5\u03b6_n(m_l+1\u22c5x_l) - d_n__(l+1)\u22c5D_n__(1)(m_l+\n",
        "\u2500\u2500\u2500\u2500\u2500\u2500\u2500\u2500\u2500\u2500\u2500\u2500\u2500\u2500\u2500\u2500\u2500\u2500\u2500\u2500\u2500\u2500\u2500\u2500\u2500\u2500\u2500\u2500\u2500\u2500\u2500\u2500\u2500\u2500\u2500\u2500\u2500\u2500\u2500\u2500\u2500\u2500\u2500\u2500\u2500\u2500\u2500\u2500\u2500\u2500\u2500\u2500\u2500\u2500\u2500\u2500\u2500\u2500\u2500\u2500\u2500\u2500\u2500\u2500\u2500\u2500\u2500\u2500\u2500\u2500\u2500\u2500\u2500\u2500\u2500\u2500\u2500\u2500\n",
        "                                                              m_l+1\u22c5(D_n__(1)(\n",
        "\n",
        "1\u22c5x_l)\u22c5\u03c8_n(m_l+1\u22c5x_l)) + m_l+1\u22c5(a_n__(l+1)\u22c5\u03b6_n(m_l+1\u22c5x_l) - d_n__(l+1)\u22c5\u03c8_n(m_l\n",
        "\u2500\u2500\u2500\u2500\u2500\u2500\u2500\u2500\u2500\u2500\u2500\u2500\u2500\u2500\u2500\u2500\u2500\u2500\u2500\u2500\u2500\u2500\u2500\u2500\u2500\u2500\u2500\u2500\u2500\u2500\u2500\u2500\u2500\u2500\u2500\u2500\u2500\u2500\u2500\u2500\u2500\u2500\u2500\u2500\u2500\u2500\u2500\u2500\u2500\u2500\u2500\u2500\u2500\u2500\u2500\u2500\u2500\u2500\u2500\u2500\u2500\u2500\u2500\u2500\u2500\u2500\u2500\u2500\u2500\u2500\u2500\u2500\u2500\u2500\u2500\u2500\u2500\u2500\n",
        "m_l\u22c5x_l) - D_n__(3)(m_l\u22c5x_l))\u22c5\u03b6_n(m_l\u22c5x_l)                                    \n",
        "\n",
        "+1\u22c5x_l))\u22c5D_n__(1)(m_l\u22c5x_l)\n",
        "\u2500\u2500\u2500\u2500\u2500\u2500\u2500\u2500\u2500\u2500\u2500\u2500\u2500\u2500\u2500\u2500\u2500\u2500\u2500\u2500\u2500\u2500\u2500\u2500\u2500\u2500\n",
        "                          "
       ]
      },
      {
       "latex": [
        "Result for  $d^{(l)}_n$:"
       ],
       "metadata": {},
       "output_type": "display_data",
       "text": [
        "<IPython.core.display.Latex at 0x7fa74c772450>"
       ]
      },
      {
       "latex": [
        "$$\\frac{1}{m_{l+1} \\left(\\operatorname{D^{(1)}_{n}}{\\left (m_{l} x_{l} \\right )} - \\operatorname{D^{(3)}_{n}}{\\left (m_{l} x_{l} \\right )}\\right) \\psi_{n}{\\left (m_{l} x_{l} \\right )}} \\left(- m_{l} \\left(a^{(l+1)}_{n} \\operatorname{D^{(3)}_{n}}{\\left (m_{l+1} x_{l} \\right )} \\zeta_{n}{\\left (m_{l+1} x_{l} \\right )} - d^{(l+1)}_{n} \\operatorname{D^{(1)}_{n}}{\\left (m_{l+1} x_{l} \\right )} \\psi_{n}{\\left (m_{l+1} x_{l} \\right )}\\right) + m_{l+1} \\left(a^{(l+1)}_{n} \\zeta_{n}{\\left (m_{l+1} x_{l} \\right )} - d^{(l+1)}_{n} \\psi_{n}{\\left (m_{l+1} x_{l} \\right )}\\right) \\operatorname{D^{(3)}_{n}}{\\left (m_{l} x_{l} \\right )}\\right)$$"
       ],
       "metadata": {},
       "output_type": "display_data",
       "png": "[encoded data removed]",
       "text": [
        "-m_l\u22c5(a_n__(l+1)\u22c5D_n__(3)(m_l+1\u22c5x_l)\u22c5\u03b6_n(m_l+1\u22c5x_l) - d_n__(l+1)\u22c5D_n__(1)(m_l+\n",
        "\u2500\u2500\u2500\u2500\u2500\u2500\u2500\u2500\u2500\u2500\u2500\u2500\u2500\u2500\u2500\u2500\u2500\u2500\u2500\u2500\u2500\u2500\u2500\u2500\u2500\u2500\u2500\u2500\u2500\u2500\u2500\u2500\u2500\u2500\u2500\u2500\u2500\u2500\u2500\u2500\u2500\u2500\u2500\u2500\u2500\u2500\u2500\u2500\u2500\u2500\u2500\u2500\u2500\u2500\u2500\u2500\u2500\u2500\u2500\u2500\u2500\u2500\u2500\u2500\u2500\u2500\u2500\u2500\u2500\u2500\u2500\u2500\u2500\u2500\u2500\u2500\u2500\u2500\n",
        "                                                              m_l+1\u22c5(D_n__(1)(\n",
        "\n",
        "1\u22c5x_l)\u22c5\u03c8_n(m_l+1\u22c5x_l)) + m_l+1\u22c5(a_n__(l+1)\u22c5\u03b6_n(m_l+1\u22c5x_l) - d_n__(l+1)\u22c5\u03c8_n(m_l\n",
        "\u2500\u2500\u2500\u2500\u2500\u2500\u2500\u2500\u2500\u2500\u2500\u2500\u2500\u2500\u2500\u2500\u2500\u2500\u2500\u2500\u2500\u2500\u2500\u2500\u2500\u2500\u2500\u2500\u2500\u2500\u2500\u2500\u2500\u2500\u2500\u2500\u2500\u2500\u2500\u2500\u2500\u2500\u2500\u2500\u2500\u2500\u2500\u2500\u2500\u2500\u2500\u2500\u2500\u2500\u2500\u2500\u2500\u2500\u2500\u2500\u2500\u2500\u2500\u2500\u2500\u2500\u2500\u2500\u2500\u2500\u2500\u2500\u2500\u2500\u2500\u2500\u2500\u2500\n",
        "m_l\u22c5x_l) - D_n__(3)(m_l\u22c5x_l))\u22c5\u03c8_n(m_l\u22c5x_l)                                    \n",
        "\n",
        "+1\u22c5x_l))\u22c5D_n__(3)(m_l\u22c5x_l)\n",
        "\u2500\u2500\u2500\u2500\u2500\u2500\u2500\u2500\u2500\u2500\u2500\u2500\u2500\u2500\u2500\u2500\u2500\u2500\u2500\u2500\u2500\u2500\u2500\u2500\u2500\u2500\n",
        "                          "
       ]
      },
      {
       "latex": [
        "Result for  $b^{(l)}_n$:"
       ],
       "metadata": {},
       "output_type": "display_data",
       "text": [
        "<IPython.core.display.Latex at 0x7fa74c772450>"
       ]
      },
      {
       "latex": [
        "$$\\frac{1}{m_{l+1} \\left(\\operatorname{D^{(1)}_{n}}{\\left (m_{l} x_{l} \\right )} - \\operatorname{D^{(3)}_{n}}{\\left (m_{l} x_{l} \\right )}\\right) \\zeta_{n}{\\left (m_{l} x_{l} \\right )}} \\left(m_{l} \\left(b^{(l+1)}_{n} \\zeta_{n}{\\left (m_{l+1} x_{l} \\right )} - c^{(l+1)}_{n} \\psi_{n}{\\left (m_{l+1} x_{l} \\right )}\\right) \\operatorname{D^{(1)}_{n}}{\\left (m_{l} x_{l} \\right )} - m_{l+1} \\left(b^{(l+1)}_{n} \\operatorname{D^{(3)}_{n}}{\\left (m_{l+1} x_{l} \\right )} \\zeta_{n}{\\left (m_{l+1} x_{l} \\right )} - c^{(l+1)}_{n} \\operatorname{D^{(1)}_{n}}{\\left (m_{l+1} x_{l} \\right )} \\psi_{n}{\\left (m_{l+1} x_{l} \\right )}\\right)\\right)$$"
       ],
       "metadata": {},
       "output_type": "display_data",
       "png": "[encoded data removed]",
       "text": [
        "m_l\u22c5(b_n__(l+1)\u22c5\u03b6_n(m_l+1\u22c5x_l) - c_n__(l+1)\u22c5\u03c8_n(m_l+1\u22c5x_l))\u22c5D_n__(1)(m_l\u22c5x_l) \n",
        "\u2500\u2500\u2500\u2500\u2500\u2500\u2500\u2500\u2500\u2500\u2500\u2500\u2500\u2500\u2500\u2500\u2500\u2500\u2500\u2500\u2500\u2500\u2500\u2500\u2500\u2500\u2500\u2500\u2500\u2500\u2500\u2500\u2500\u2500\u2500\u2500\u2500\u2500\u2500\u2500\u2500\u2500\u2500\u2500\u2500\u2500\u2500\u2500\u2500\u2500\u2500\u2500\u2500\u2500\u2500\u2500\u2500\u2500\u2500\u2500\u2500\u2500\u2500\u2500\u2500\u2500\u2500\u2500\u2500\u2500\u2500\u2500\u2500\u2500\u2500\u2500\u2500\u2500\n",
        "                                                              m_l+1\u22c5(D_n__(1)(\n",
        "\n",
        "- m_l+1\u22c5(b_n__(l+1)\u22c5D_n__(3)(m_l+1\u22c5x_l)\u22c5\u03b6_n(m_l+1\u22c5x_l) - c_n__(l+1)\u22c5D_n__(1)(m\n",
        "\u2500\u2500\u2500\u2500\u2500\u2500\u2500\u2500\u2500\u2500\u2500\u2500\u2500\u2500\u2500\u2500\u2500\u2500\u2500\u2500\u2500\u2500\u2500\u2500\u2500\u2500\u2500\u2500\u2500\u2500\u2500\u2500\u2500\u2500\u2500\u2500\u2500\u2500\u2500\u2500\u2500\u2500\u2500\u2500\u2500\u2500\u2500\u2500\u2500\u2500\u2500\u2500\u2500\u2500\u2500\u2500\u2500\u2500\u2500\u2500\u2500\u2500\u2500\u2500\u2500\u2500\u2500\u2500\u2500\u2500\u2500\u2500\u2500\u2500\u2500\u2500\u2500\u2500\n",
        "m_l\u22c5x_l) - D_n__(3)(m_l\u22c5x_l))\u22c5\u03b6_n(m_l\u22c5x_l)                                    \n",
        "\n",
        "_l+1\u22c5x_l)\u22c5\u03c8_n(m_l+1\u22c5x_l))\n",
        "\u2500\u2500\u2500\u2500\u2500\u2500\u2500\u2500\u2500\u2500\u2500\u2500\u2500\u2500\u2500\u2500\u2500\u2500\u2500\u2500\u2500\u2500\u2500\u2500\u2500\n",
        "                         "
       ]
      },
      {
       "latex": [
        "Result for  $c^{(l)}_n$:"
       ],
       "metadata": {},
       "output_type": "display_data",
       "text": [
        "<IPython.core.display.Latex at 0x7fa727adf310>"
       ]
      },
      {
       "latex": [
        "$$\\frac{1}{m_{l+1} \\left(\\operatorname{D^{(1)}_{n}}{\\left (m_{l} x_{l} \\right )} - \\operatorname{D^{(3)}_{n}}{\\left (m_{l} x_{l} \\right )}\\right) \\psi_{n}{\\left (m_{l} x_{l} \\right )}} \\left(m_{l} \\left(b^{(l+1)}_{n} \\zeta_{n}{\\left (m_{l+1} x_{l} \\right )} - c^{(l+1)}_{n} \\psi_{n}{\\left (m_{l+1} x_{l} \\right )}\\right) \\operatorname{D^{(3)}_{n}}{\\left (m_{l} x_{l} \\right )} - m_{l+1} \\left(b^{(l+1)}_{n} \\operatorname{D^{(3)}_{n}}{\\left (m_{l+1} x_{l} \\right )} \\zeta_{n}{\\left (m_{l+1} x_{l} \\right )} - c^{(l+1)}_{n} \\operatorname{D^{(1)}_{n}}{\\left (m_{l+1} x_{l} \\right )} \\psi_{n}{\\left (m_{l+1} x_{l} \\right )}\\right)\\right)$$"
       ],
       "metadata": {},
       "output_type": "display_data",
       "png": "[encoded data removed]",
       "text": [
        "m_l\u22c5(b_n__(l+1)\u22c5\u03b6_n(m_l+1\u22c5x_l) - c_n__(l+1)\u22c5\u03c8_n(m_l+1\u22c5x_l))\u22c5D_n__(3)(m_l\u22c5x_l) \n",
        "\u2500\u2500\u2500\u2500\u2500\u2500\u2500\u2500\u2500\u2500\u2500\u2500\u2500\u2500\u2500\u2500\u2500\u2500\u2500\u2500\u2500\u2500\u2500\u2500\u2500\u2500\u2500\u2500\u2500\u2500\u2500\u2500\u2500\u2500\u2500\u2500\u2500\u2500\u2500\u2500\u2500\u2500\u2500\u2500\u2500\u2500\u2500\u2500\u2500\u2500\u2500\u2500\u2500\u2500\u2500\u2500\u2500\u2500\u2500\u2500\u2500\u2500\u2500\u2500\u2500\u2500\u2500\u2500\u2500\u2500\u2500\u2500\u2500\u2500\u2500\u2500\u2500\u2500\n",
        "                                                              m_l+1\u22c5(D_n__(1)(\n",
        "\n",
        "- m_l+1\u22c5(b_n__(l+1)\u22c5D_n__(3)(m_l+1\u22c5x_l)\u22c5\u03b6_n(m_l+1\u22c5x_l) - c_n__(l+1)\u22c5D_n__(1)(m\n",
        "\u2500\u2500\u2500\u2500\u2500\u2500\u2500\u2500\u2500\u2500\u2500\u2500\u2500\u2500\u2500\u2500\u2500\u2500\u2500\u2500\u2500\u2500\u2500\u2500\u2500\u2500\u2500\u2500\u2500\u2500\u2500\u2500\u2500\u2500\u2500\u2500\u2500\u2500\u2500\u2500\u2500\u2500\u2500\u2500\u2500\u2500\u2500\u2500\u2500\u2500\u2500\u2500\u2500\u2500\u2500\u2500\u2500\u2500\u2500\u2500\u2500\u2500\u2500\u2500\u2500\u2500\u2500\u2500\u2500\u2500\u2500\u2500\u2500\u2500\u2500\u2500\u2500\u2500\n",
        "m_l\u22c5x_l) - D_n__(3)(m_l\u22c5x_l))\u22c5\u03c8_n(m_l\u22c5x_l)                                    \n",
        "\n",
        "_l+1\u22c5x_l)\u22c5\u03c8_n(m_l+1\u22c5x_l))\n",
        "\u2500\u2500\u2500\u2500\u2500\u2500\u2500\u2500\u2500\u2500\u2500\u2500\u2500\u2500\u2500\u2500\u2500\u2500\u2500\u2500\u2500\u2500\u2500\u2500\u2500\n",
        "                         "
       ]
      }
     ],
     "prompt_number": 9
    },
    {
     "cell_type": "code",
     "collapsed": false,
     "input": [
      "print (\"in C++ l = [0..L-1] zl=ml*xl zlp1=m(l+1)xl\")\n",
      "z__l, z__l_1, m__l_1, m__l = symbols('z__(l), z__(l)_1, m__(l)_1, m__(l)');\n",
      "D__l_1zn, D__l_1z1n, D__l_3zn, D__l_3z1n = symbols('D__(l)_1zn, D__(l)_1z1n, D__(l)_3zn, D__(l)_3z1n');\n",
      "psi__l_zn, psi__l_z1n, zeta__l_zn, zeta__l_z1n = symbols('psi__(l)_zn, psi__(l)_z1n, zeta__(l)_zn, zeta__(l)_z1n');\n",
      "c_a__l_n=simplify(result_a__l_n);\n",
      "c_b__l_n=simplify(result_b__l_n);\n",
      "c_c__l_n=simplify(result_c__l_n);\n",
      "c_d__l_n=simplify(result_d__l_n);\n",
      "all_eq = [c_a__l_n, c_d__l_n, c_b__l_n, c_c__l_n]\n",
      "for i, eq in enumerate(all_eq):\n",
      "    all_eq[i]= all_eq[i].replace(m_l*x_l, z__l).replace(m_lp1*x_l, z__l_1)\n",
      "    all_eq[i]= all_eq[i].replace(D__3_n(z__l),D__l_3zn).replace(D__1_n(z__l),D__l_1zn)\n",
      "    all_eq[i]= all_eq[i].replace(D__3_n(z__l_1),D__l_3z1n).replace(D__1_n(z__l_1),D__l_1z1n)\n",
      "    all_eq[i]= all_eq[i].replace(zeta_n(z__l),zeta__l_zn).replace(psi_n(z__l),psi__l_zn)\n",
      "    all_eq[i]= all_eq[i].replace(zeta_n(z__l_1),zeta__l_z1n).replace(psi_n(z__l_1),psi__l_z1n)\n",
      "    all_eq[i]= all_eq[i].replace(m_lp1, m__l_1).replace(m_l, m__l)\n",
      "display(Latex(r\"Result for  $a^{(l)}_n$:\"))\n",
      "display(all_eq[0])\n",
      "display(Latex(r\"Result for  $d^{(l)}_n$:\"))\n",
      "display(all_eq[1])\n",
      "display(Latex(r\"Result for  $b^{(l)}_n$:\"))\n",
      "display(all_eq[2])\n",
      "display(Latex(r\"Result for  $c^{(l)}_n$:\"))\n",
      "display(all_eq[3])"
     ],
     "language": "python",
     "metadata": {},
     "outputs": [
      {
       "output_type": "stream",
       "stream": "stdout",
       "text": [
        "in C++ l = [0..L-1] zl=ml*xl zlp1=m(l+1)xl\n"
       ]
      },
      {
       "latex": [
        "Result for  $a^{(l)}_n$:"
       ],
       "metadata": {},
       "output_type": "display_data",
       "text": [
        "<IPython.core.display.Latex at 0x7fa7278db390>"
       ]
      },
      {
       "latex": [
        "$$\\frac{1}{m^{(l)}_{1} \\zeta^{(l)}_{zn} \\left(D^{(l)}_{1zn} - D^{(l)}_{3zn}\\right)} \\left(D^{(l)}_{1zn} m^{(l)}_{1} \\left(a^{(l+1)}_{n} \\zeta^{(l)}_{z1n} - d^{(l+1)}_{n} \\psi^{(l)}_{z1n}\\right) - m^{(l)} \\left(- D^{(l)}_{1z1n} d^{(l+1)}_{n} \\psi^{(l)}_{z1n} + D^{(l)}_{3z1n} a^{(l+1)}_{n} \\zeta^{(l)}_{z1n}\\right)\\right)$$"
       ],
       "metadata": {},
       "output_type": "display_data",
       "png": "[encoded data removed]",
       "text": [
        "D_1zn__(l)\u22c5m_1__(l)\u22c5(a_n__(l+1)\u22c5\u03b6_z1n__(l) - d_n__(l+1)\u22c5\u03c8_z1n__(l)) - m__(l)\u22c5(\n",
        "\u2500\u2500\u2500\u2500\u2500\u2500\u2500\u2500\u2500\u2500\u2500\u2500\u2500\u2500\u2500\u2500\u2500\u2500\u2500\u2500\u2500\u2500\u2500\u2500\u2500\u2500\u2500\u2500\u2500\u2500\u2500\u2500\u2500\u2500\u2500\u2500\u2500\u2500\u2500\u2500\u2500\u2500\u2500\u2500\u2500\u2500\u2500\u2500\u2500\u2500\u2500\u2500\u2500\u2500\u2500\u2500\u2500\u2500\u2500\u2500\u2500\u2500\u2500\u2500\u2500\u2500\u2500\u2500\u2500\u2500\u2500\u2500\u2500\u2500\u2500\u2500\u2500\u2500\n",
        "                                                     m_1__(l)\u22c5\u03b6_zn__(l)\u22c5(D_1zn\n",
        "\n",
        "-D_1z1n__(l)\u22c5d_n__(l+1)\u22c5\u03c8_z1n__(l) + D_3z1n__(l)\u22c5a_n__(l+1)\u22c5\u03b6_z1n__(l))\n",
        "\u2500\u2500\u2500\u2500\u2500\u2500\u2500\u2500\u2500\u2500\u2500\u2500\u2500\u2500\u2500\u2500\u2500\u2500\u2500\u2500\u2500\u2500\u2500\u2500\u2500\u2500\u2500\u2500\u2500\u2500\u2500\u2500\u2500\u2500\u2500\u2500\u2500\u2500\u2500\u2500\u2500\u2500\u2500\u2500\u2500\u2500\u2500\u2500\u2500\u2500\u2500\u2500\u2500\u2500\u2500\u2500\u2500\u2500\u2500\u2500\u2500\u2500\u2500\u2500\u2500\u2500\u2500\u2500\u2500\u2500\u2500\n",
        "__(l) - D_3zn__(l))                                                    "
       ]
      },
      {
       "latex": [
        "Result for  $d^{(l)}_n$:"
       ],
       "metadata": {},
       "output_type": "display_data",
       "text": [
        "<IPython.core.display.Latex at 0x7fa727b8db90>"
       ]
      },
      {
       "latex": [
        "$$\\frac{1}{m^{(l)}_{1} \\psi^{(l)}_{zn} \\left(D^{(l)}_{1zn} - D^{(l)}_{3zn}\\right)} \\left(D^{(l)}_{3zn} m^{(l)}_{1} \\left(a^{(l+1)}_{n} \\zeta^{(l)}_{z1n} - d^{(l+1)}_{n} \\psi^{(l)}_{z1n}\\right) - m^{(l)} \\left(- D^{(l)}_{1z1n} d^{(l+1)}_{n} \\psi^{(l)}_{z1n} + D^{(l)}_{3z1n} a^{(l+1)}_{n} \\zeta^{(l)}_{z1n}\\right)\\right)$$"
       ],
       "metadata": {},
       "output_type": "display_data",
       "png": "[encoded data removed]",
       "text": [
        "D_3zn__(l)\u22c5m_1__(l)\u22c5(a_n__(l+1)\u22c5\u03b6_z1n__(l) - d_n__(l+1)\u22c5\u03c8_z1n__(l)) - m__(l)\u22c5(\n",
        "\u2500\u2500\u2500\u2500\u2500\u2500\u2500\u2500\u2500\u2500\u2500\u2500\u2500\u2500\u2500\u2500\u2500\u2500\u2500\u2500\u2500\u2500\u2500\u2500\u2500\u2500\u2500\u2500\u2500\u2500\u2500\u2500\u2500\u2500\u2500\u2500\u2500\u2500\u2500\u2500\u2500\u2500\u2500\u2500\u2500\u2500\u2500\u2500\u2500\u2500\u2500\u2500\u2500\u2500\u2500\u2500\u2500\u2500\u2500\u2500\u2500\u2500\u2500\u2500\u2500\u2500\u2500\u2500\u2500\u2500\u2500\u2500\u2500\u2500\u2500\u2500\u2500\u2500\n",
        "                                                     m_1__(l)\u22c5\u03c8_zn__(l)\u22c5(D_1zn\n",
        "\n",
        "-D_1z1n__(l)\u22c5d_n__(l+1)\u22c5\u03c8_z1n__(l) + D_3z1n__(l)\u22c5a_n__(l+1)\u22c5\u03b6_z1n__(l))\n",
        "\u2500\u2500\u2500\u2500\u2500\u2500\u2500\u2500\u2500\u2500\u2500\u2500\u2500\u2500\u2500\u2500\u2500\u2500\u2500\u2500\u2500\u2500\u2500\u2500\u2500\u2500\u2500\u2500\u2500\u2500\u2500\u2500\u2500\u2500\u2500\u2500\u2500\u2500\u2500\u2500\u2500\u2500\u2500\u2500\u2500\u2500\u2500\u2500\u2500\u2500\u2500\u2500\u2500\u2500\u2500\u2500\u2500\u2500\u2500\u2500\u2500\u2500\u2500\u2500\u2500\u2500\u2500\u2500\u2500\u2500\u2500\n",
        "__(l) - D_3zn__(l))                                                    "
       ]
      },
      {
       "latex": [
        "Result for  $b^{(l)}_n$:"
       ],
       "metadata": {},
       "output_type": "display_data",
       "text": [
        "<IPython.core.display.Latex at 0x7fa7445ab7d0>"
       ]
      },
      {
       "latex": [
        "$$\\frac{1}{m^{(l)}_{1} \\zeta^{(l)}_{zn} \\left(D^{(l)}_{1zn} - D^{(l)}_{3zn}\\right)} \\left(D^{(l)}_{1zn} m^{(l)} \\left(b^{(l+1)}_{n} \\zeta^{(l)}_{z1n} - c^{(l+1)}_{n} \\psi^{(l)}_{z1n}\\right) - m^{(l)}_{1} \\left(- D^{(l)}_{1z1n} c^{(l+1)}_{n} \\psi^{(l)}_{z1n} + D^{(l)}_{3z1n} b^{(l+1)}_{n} \\zeta^{(l)}_{z1n}\\right)\\right)$$"
       ],
       "metadata": {},
       "output_type": "display_data",
       "png": "[encoded data removed]",
       "text": [
        "D_1zn__(l)\u22c5m__(l)\u22c5(b_n__(l+1)\u22c5\u03b6_z1n__(l) - c_n__(l+1)\u22c5\u03c8_z1n__(l)) - m_1__(l)\u22c5(\n",
        "\u2500\u2500\u2500\u2500\u2500\u2500\u2500\u2500\u2500\u2500\u2500\u2500\u2500\u2500\u2500\u2500\u2500\u2500\u2500\u2500\u2500\u2500\u2500\u2500\u2500\u2500\u2500\u2500\u2500\u2500\u2500\u2500\u2500\u2500\u2500\u2500\u2500\u2500\u2500\u2500\u2500\u2500\u2500\u2500\u2500\u2500\u2500\u2500\u2500\u2500\u2500\u2500\u2500\u2500\u2500\u2500\u2500\u2500\u2500\u2500\u2500\u2500\u2500\u2500\u2500\u2500\u2500\u2500\u2500\u2500\u2500\u2500\u2500\u2500\u2500\u2500\u2500\u2500\n",
        "                                                     m_1__(l)\u22c5\u03b6_zn__(l)\u22c5(D_1zn\n",
        "\n",
        "-D_1z1n__(l)\u22c5c_n__(l+1)\u22c5\u03c8_z1n__(l) + D_3z1n__(l)\u22c5b_n__(l+1)\u22c5\u03b6_z1n__(l))\n",
        "\u2500\u2500\u2500\u2500\u2500\u2500\u2500\u2500\u2500\u2500\u2500\u2500\u2500\u2500\u2500\u2500\u2500\u2500\u2500\u2500\u2500\u2500\u2500\u2500\u2500\u2500\u2500\u2500\u2500\u2500\u2500\u2500\u2500\u2500\u2500\u2500\u2500\u2500\u2500\u2500\u2500\u2500\u2500\u2500\u2500\u2500\u2500\u2500\u2500\u2500\u2500\u2500\u2500\u2500\u2500\u2500\u2500\u2500\u2500\u2500\u2500\u2500\u2500\u2500\u2500\u2500\u2500\u2500\u2500\u2500\u2500\n",
        "__(l) - D_3zn__(l))                                                    "
       ]
      },
      {
       "latex": [
        "Result for  $c^{(l)}_n$:"
       ],
       "metadata": {},
       "output_type": "display_data",
       "text": [
        "<IPython.core.display.Latex at 0x7fa7279b9290>"
       ]
      },
      {
       "latex": [
        "$$\\frac{1}{m^{(l)}_{1} \\psi^{(l)}_{zn} \\left(D^{(l)}_{1zn} - D^{(l)}_{3zn}\\right)} \\left(D^{(l)}_{3zn} m^{(l)} \\left(b^{(l+1)}_{n} \\zeta^{(l)}_{z1n} - c^{(l+1)}_{n} \\psi^{(l)}_{z1n}\\right) - m^{(l)}_{1} \\left(- D^{(l)}_{1z1n} c^{(l+1)}_{n} \\psi^{(l)}_{z1n} + D^{(l)}_{3z1n} b^{(l+1)}_{n} \\zeta^{(l)}_{z1n}\\right)\\right)$$"
       ],
       "metadata": {},
       "output_type": "display_data",
       "png": "[encoded data removed]",
       "text": [
        "D_3zn__(l)\u22c5m__(l)\u22c5(b_n__(l+1)\u22c5\u03b6_z1n__(l) - c_n__(l+1)\u22c5\u03c8_z1n__(l)) - m_1__(l)\u22c5(\n",
        "\u2500\u2500\u2500\u2500\u2500\u2500\u2500\u2500\u2500\u2500\u2500\u2500\u2500\u2500\u2500\u2500\u2500\u2500\u2500\u2500\u2500\u2500\u2500\u2500\u2500\u2500\u2500\u2500\u2500\u2500\u2500\u2500\u2500\u2500\u2500\u2500\u2500\u2500\u2500\u2500\u2500\u2500\u2500\u2500\u2500\u2500\u2500\u2500\u2500\u2500\u2500\u2500\u2500\u2500\u2500\u2500\u2500\u2500\u2500\u2500\u2500\u2500\u2500\u2500\u2500\u2500\u2500\u2500\u2500\u2500\u2500\u2500\u2500\u2500\u2500\u2500\u2500\u2500\n",
        "                                                     m_1__(l)\u22c5\u03c8_zn__(l)\u22c5(D_1zn\n",
        "\n",
        "-D_1z1n__(l)\u22c5c_n__(l+1)\u22c5\u03c8_z1n__(l) + D_3z1n__(l)\u22c5b_n__(l+1)\u22c5\u03b6_z1n__(l))\n",
        "\u2500\u2500\u2500\u2500\u2500\u2500\u2500\u2500\u2500\u2500\u2500\u2500\u2500\u2500\u2500\u2500\u2500\u2500\u2500\u2500\u2500\u2500\u2500\u2500\u2500\u2500\u2500\u2500\u2500\u2500\u2500\u2500\u2500\u2500\u2500\u2500\u2500\u2500\u2500\u2500\u2500\u2500\u2500\u2500\u2500\u2500\u2500\u2500\u2500\u2500\u2500\u2500\u2500\u2500\u2500\u2500\u2500\u2500\u2500\u2500\u2500\u2500\u2500\u2500\u2500\u2500\u2500\u2500\u2500\u2500\u2500\n",
        "__(l) - D_3zn__(l))                                                    "
       ]
      }
     ],
     "prompt_number": 14
    },
    {
     "cell_type": "code",
     "collapsed": false,
     "input": [
      "single = all_eq[0]\n",
      "single = single * m__l_1*zeta__l_zn*(D__l_1zn-D__l_3zn)\n",
      "single = simplify(single.replace(d__lp1_n, 1).replace(m__l_1, 1).replace(m__l, 1))\n",
      "\n",
      "display(single)"
     ],
     "language": "python",
     "metadata": {},
     "outputs": [
      {
       "latex": [
        "$$D^{(l)}_{1z1n} \\psi^{(l)}_{z1n} + D^{(l)}_{1zn} \\left(a^{(l+1)}_{n} \\zeta^{(l)}_{z1n} - \\psi^{(l)}_{z1n}\\right) - D^{(l)}_{3z1n} a^{(l+1)}_{n} \\zeta^{(l)}_{z1n}$$"
       ],
       "metadata": {},
       "output_type": "display_data",
       "png": "[encoded data removed]",
       "text": [
        "D_1z1n__(l)\u22c5\u03c8_z1n__(l) + D_1zn__(l)\u22c5(a_n__(l+1)\u22c5\u03b6_z1n__(l) - \u03c8_z1n__(l)) - D_3\n",
        "z1n__(l)\u22c5a_n__(l+1)\u22c5\u03b6_z1n__(l)"
       ]
      }
     ],
     "prompt_number": 23
    },
    {
     "cell_type": "code",
     "collapsed": false,
     "input": [],
     "language": "python",
     "metadata": {},
     "outputs": []
    }
   ],
   "metadata": {}
  }
 ]
}